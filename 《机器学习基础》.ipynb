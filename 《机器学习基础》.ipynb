{
  "nbformat": 4,
  "nbformat_minor": 0,
  "metadata": {
    "colab": {
      "name": "《机器学习基础》.ipynb",
      "provenance": [],
      "collapsed_sections": [],
      "authorship_tag": "ABX9TyNjxS3DezONXiXFlhUn9QPY",
      "include_colab_link": true
    },
    "kernelspec": {
      "name": "python3",
      "display_name": "Python 3"
    }
  },
  "cells": [
    {
      "cell_type": "markdown",
      "metadata": {
        "id": "view-in-github",
        "colab_type": "text"
      },
      "source": [
        "<a href=\"https://colab.research.google.com/github/zydmayday/learn-algorithm/blob/master/%E3%80%8A%E6%9C%BA%E5%99%A8%E5%AD%A6%E4%B9%A0%E5%9F%BA%E7%A1%80%E3%80%8B.ipynb\" target=\"_parent\"><img src=\"https://colab.research.google.com/assets/colab-badge.svg\" alt=\"Open In Colab\"/></a>"
      ]
    },
    {
      "cell_type": "markdown",
      "metadata": {
        "id": "fbh5AvgyQuxR"
      },
      "source": [
        "这是根据B站的教程完成的学习笔记。  \n",
        "B站链接：https://www.bilibili.com/video/BV1Ja4y1W7as?p=1"
      ]
    },
    {
      "cell_type": "markdown",
      "metadata": {
        "id": "dAC2JgodRGgu"
      },
      "source": [
        "# 第一讲 什么是机器学习？\n",
        "\n",
        "## 和传统编程的不同\n",
        "\n",
        "三个要素：\n",
        "- 输入\n",
        "- 输出\n",
        "- 规则\n",
        "\n",
        "传统编程的方式：\n",
        "\n",
        "提供输入和规则，获得输出。\n",
        "\n",
        "**机器学习的方式：**\n",
        "\n",
        "提供输入和输出，*训练规则*。\n",
        "\n",
        "## 用TensorFlow创建一个最小的神经网络\n",
        "\n",
        "在这个神经网络中，我们只有一个神经单元（units=1），所以输入也是一维的。\n",
        "\n",
        "我们使用随机梯度下降（SGD）来优化这个神经网络，并且使用均方误差来计算估计的误差。\n",
        "\n",
        "提供一些输入和输出，用`fit`来训练我们的神经网络，这里我们训练500次。\n",
        "\n",
        "对于训练好的模型，我们使用`predict`来对新的输入进行预测。"
      ]
    },
    {
      "cell_type": "code",
      "metadata": {
        "id": "nqySGE0bQoV8"
      },
      "source": [
        "import tensorflow as tf\n",
        "from tensorflow import keras\n",
        "import numpy as np"
      ],
      "execution_count": null,
      "outputs": []
    },
    {
      "cell_type": "code",
      "metadata": {
        "id": "Sl_IUtlxVrx5"
      },
      "source": [
        "model = keras.Sequential([keras.layers.Dense(units=1, input_shape=[1])])\n",
        "model.compile(optimizer='sgd', loss='mean_squared_error') # 随机梯度下降（Stochastic Gradient Descent），均方误差\n",
        "\n",
        "xs = np.array([-1.0, 0.0, 1.0, 2.0, 3.0, 4.0], dtype=float)\n",
        "ys = np.array([-3.0, -1.0, 1.0, 3.0, 5.0, 7.0], dtype=float)\n",
        "\n",
        "model.fit(xs, ys, epochs=500)\n",
        "print(model.predict([10.0]))"
      ],
      "execution_count": null,
      "outputs": []
    },
    {
      "cell_type": "markdown",
      "metadata": {
        "id": "nwoHgHLiYeqi"
      },
      "source": [
        "### 第一讲习题\n",
        "\n",
        "In this exercise you'll try to build a neural network that predicts the price of a house according to a simple formula.\n",
        "\n",
        "So, imagine if house pricing was as easy as a house costs 50k + 50k per bedroom, so that a 1 bedroom house costs 100k, a 2 bedroom house costs 150k etc.\n",
        "\n",
        "How would you create a neural network that learns this relationship so that it would predict a 7 bedroom house as costing close to 400k etc.\n",
        "\n",
        "Hint: Your network might work better if you scale the house price down. You don't have to give the answer 400...it might be better to create something that predicts the number 4, and then your answer is in the 'hundreds of thousands' etc."
      ]
    },
    {
      "cell_type": "code",
      "metadata": {
        "id": "rmD9LJohcSjK"
      },
      "source": [
        "import tensorflow as tf\n",
        "import numpy as np\n",
        "from tensorflow import keras\n",
        "model = # Your Code Here#\n",
        "model.compile(# Your Code Here#)\n",
        "xs = # Your Code Here#\n",
        "ys = # Your Code Here#\n",
        "model.fit(# Your Code here#)\n",
        "print(model.predict([7.0]))"
      ],
      "execution_count": null,
      "outputs": []
    },
    {
      "cell_type": "markdown",
      "metadata": {
        "id": "mz5jNR7ZcWpT"
      },
      "source": [
        "### 第一讲习题答案"
      ]
    },
    {
      "cell_type": "code",
      "metadata": {
        "id": "VJdcM0JsVxru"
      },
      "source": [
        "import tensorflow as tf\n",
        "import numpy as np\n",
        "from tensorflow import keras\n",
        "model = keras.Sequential([keras.layers.Dense(units=1, input_shape=[1])])\n",
        "model.compile(optimizer='sgd', loss='mean_squared_error')\n",
        "xs = np.array([1.0, 2.0, 3.0, 4.0, 5.0, 6.0], dtype=float)\n",
        "ys = np.array([1.0, 1.5, 2.0, 2.5, 3.0, 3.5], dtype=float)\n",
        "model.fit(xs, ys, epochs=1000)\n",
        "print(model.predict([7.0]))"
      ],
      "execution_count": null,
      "outputs": []
    }
  ]
}